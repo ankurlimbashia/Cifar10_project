{
 "cells": [
  {
   "cell_type": "code",
   "execution_count": 1,
   "metadata": {},
   "outputs": [],
   "source": [
    "from keras.datasets import cifar10"
   ]
  },
  {
   "cell_type": "code",
   "execution_count": 2,
   "metadata": {},
   "outputs": [],
   "source": [
    "import numpy as np"
   ]
  },
  {
   "cell_type": "code",
   "execution_count": 3,
   "metadata": {},
   "outputs": [],
   "source": [
    "# importing the cifar10 data\n",
    "(x_train,y_train),(x_test,y_test) = cifar10.load_data()"
   ]
  },
  {
   "cell_type": "code",
   "execution_count": 4,
   "metadata": {},
   "outputs": [],
   "source": [
    "from sklearn.preprocessing import OneHotEncoder as ONE"
   ]
  },
  {
   "cell_type": "code",
   "execution_count": 5,
   "metadata": {},
   "outputs": [],
   "source": [
    "# using one hot encoder from sklearn as target should be in one hot encoded form\n",
    "one_hot = ONE(sparse = False)\n",
    "y_train = one_hot.fit_transform(y_train)\n",
    "y_test = one_hot.fit_transform(y_test)"
   ]
  },
  {
   "cell_type": "code",
   "execution_count": 6,
   "metadata": {},
   "outputs": [],
   "source": [
    "# to make the all data points from 0 to 1\n",
    "x_train = x_train.astype('float')/255.0 \n",
    "x_test = x_test.astype('float')/255.0"
   ]
  },
  {
   "cell_type": "code",
   "execution_count": 7,
   "metadata": {},
   "outputs": [
    {
     "data": {
      "text/plain": [
       "((50000, 32, 32, 3),\n",
       " (50000, 10),\n",
       " (10000, 32, 32, 3),\n",
       " (10000, 10),\n",
       " dtype('float64'),\n",
       " dtype('float64'),\n",
       " dtype('float64'),\n",
       " dtype('float64'))"
      ]
     },
     "execution_count": 7,
     "metadata": {},
     "output_type": "execute_result"
    }
   ],
   "source": [
    "# checking the shape and data type of test and train data\n",
    "x_train.shape,y_train.shape,x_test.shape,y_test.shape,x_train.dtype,x_test.dtype,y_train.dtype,y_test.dtype"
   ]
  },
  {
   "cell_type": "code",
   "execution_count": 8,
   "metadata": {},
   "outputs": [],
   "source": [
    "# importing required models\n",
    "from keras.models import Sequential\n",
    "from keras.layers import Dense,Conv2D, MaxPooling2D,Flatten,Activation,Dropout\n",
    "from keras.optimizers import Adam"
   ]
  },
  {
   "cell_type": "code",
   "execution_count": 9,
   "metadata": {},
   "outputs": [
    {
     "name": "stdout",
     "output_type": "stream",
     "text": [
      "Epoch 1/25\n",
      "100/100 [==============================] - 204s 2s/step - loss: 2.1951 - accuracy: 0.1775 - val_loss: 1.7115 - val_accuracy: 0.3773\n",
      "Epoch 2/25\n",
      "100/100 [==============================] - 203s 2s/step - loss: 1.6429 - accuracy: 0.3942 - val_loss: 1.4489 - val_accuracy: 0.4704\n",
      "Epoch 3/25\n",
      "100/100 [==============================] - 203s 2s/step - loss: 1.4248 - accuracy: 0.4844 - val_loss: 1.3505 - val_accuracy: 0.5156\n",
      "Epoch 4/25\n",
      "100/100 [==============================] - 208s 2s/step - loss: 1.2667 - accuracy: 0.5456 - val_loss: 1.0996 - val_accuracy: 0.6076\n",
      "Epoch 5/25\n",
      "100/100 [==============================] - 255s 3s/step - loss: 1.1469 - accuracy: 0.5919 - val_loss: 1.0220 - val_accuracy: 0.6430\n",
      "Epoch 6/25\n",
      "100/100 [==============================] - 275s 3s/step - loss: 1.0346 - accuracy: 0.6349 - val_loss: 0.9254 - val_accuracy: 0.6741\n",
      "Epoch 7/25\n",
      "100/100 [==============================] - 260s 3s/step - loss: 0.9380 - accuracy: 0.6720 - val_loss: 0.8823 - val_accuracy: 0.6931\n",
      "Epoch 8/25\n",
      "100/100 [==============================] - 247s 2s/step - loss: 0.8683 - accuracy: 0.6949 - val_loss: 0.8266 - val_accuracy: 0.7158\n",
      "Epoch 9/25\n",
      "100/100 [==============================] - 265s 3s/step - loss: 0.8030 - accuracy: 0.7171 - val_loss: 0.7709 - val_accuracy: 0.7317\n",
      "Epoch 10/25\n",
      "100/100 [==============================] - 309s 3s/step - loss: 0.7578 - accuracy: 0.7333 - val_loss: 0.7514 - val_accuracy: 0.7412\n",
      "Epoch 11/25\n",
      "100/100 [==============================] - 316s 3s/step - loss: 0.7151 - accuracy: 0.7499 - val_loss: 0.7135 - val_accuracy: 0.7555\n",
      "Epoch 12/25\n",
      "100/100 [==============================] - 327s 3s/step - loss: 0.6909 - accuracy: 0.7582 - val_loss: 0.6854 - val_accuracy: 0.7641\n",
      "Epoch 13/25\n",
      "100/100 [==============================] - 319s 3s/step - loss: 0.6406 - accuracy: 0.7750 - val_loss: 0.6609 - val_accuracy: 0.7750\n",
      "Epoch 14/25\n",
      "100/100 [==============================] - 306s 3s/step - loss: 0.6021 - accuracy: 0.7900 - val_loss: 0.6602 - val_accuracy: 0.7768\n",
      "Epoch 15/25\n",
      "100/100 [==============================] - 300s 3s/step - loss: 0.5826 - accuracy: 0.7960 - val_loss: 0.6706 - val_accuracy: 0.7716\n",
      "Epoch 16/25\n",
      "100/100 [==============================] - 276s 3s/step - loss: 0.5425 - accuracy: 0.8085 - val_loss: 0.6252 - val_accuracy: 0.7910\n",
      "Epoch 17/25\n",
      "100/100 [==============================] - 227s 2s/step - loss: 0.5272 - accuracy: 0.8134 - val_loss: 0.6285 - val_accuracy: 0.7892\n",
      "Epoch 18/25\n",
      "100/100 [==============================] - 212s 2s/step - loss: 0.5083 - accuracy: 0.8192 - val_loss: 0.6138 - val_accuracy: 0.7932\n",
      "Epoch 19/25\n",
      "100/100 [==============================] - 213s 2s/step - loss: 0.4747 - accuracy: 0.8323 - val_loss: 0.6475 - val_accuracy: 0.7892\n",
      "Epoch 20/25\n",
      "100/100 [==============================] - 217s 2s/step - loss: 0.4572 - accuracy: 0.8356 - val_loss: 0.5971 - val_accuracy: 0.8006\n",
      "Epoch 21/25\n",
      "100/100 [==============================] - 207s 2s/step - loss: 0.4407 - accuracy: 0.8430 - val_loss: 0.5973 - val_accuracy: 0.8067\n",
      "Epoch 22/25\n",
      "100/100 [==============================] - 206s 2s/step - loss: 0.4238 - accuracy: 0.8494 - val_loss: 0.6031 - val_accuracy: 0.8023\n",
      "Epoch 23/25\n",
      "100/100 [==============================] - 202s 2s/step - loss: 0.4033 - accuracy: 0.8565 - val_loss: 0.5831 - val_accuracy: 0.8092\n",
      "Epoch 24/25\n",
      "100/100 [==============================] - 203s 2s/step - loss: 0.3878 - accuracy: 0.8631 - val_loss: 0.6131 - val_accuracy: 0.8015\n",
      "Epoch 25/25\n",
      "100/100 [==============================] - 205s 2s/step - loss: 0.3787 - accuracy: 0.8651 - val_loss: 0.5978 - val_accuracy: 0.8091\n"
     ]
    }
   ],
   "source": [
    "# making Sequential model \n",
    "model = Sequential()\n",
    "\n",
    "# adding different layers to the models\n",
    "model.add(Conv2D(32,(3,3),strides=1, padding='same',activation = 'relu',use_bias = True,kernel_initializer='he_uniform',input_shape=(32,32,3)))\n",
    "model.add(Conv2D(32,(3,3),strides=1, padding='same',activation = 'relu',use_bias = True,kernel_initializer='he_uniform'))\n",
    "model.add(MaxPooling2D(pool_size=(2,2),padding='same'))\n",
    "model.add(Dropout(0.2))\n",
    "model.add(Conv2D(64,(3,3),strides=1, padding='same',activation = 'relu',use_bias = True,kernel_initializer='he_uniform'))\n",
    "model.add(Conv2D(64,(3,3),strides=1, padding='same',activation = 'relu',use_bias = True,kernel_initializer='he_uniform'))\n",
    "model.add(MaxPooling2D(pool_size=(2,2),padding='same'))\n",
    "model.add(Dropout(0.2))\n",
    "model.add(Conv2D(128,(3,3),strides=1, padding='same',activation = 'relu',use_bias = True,kernel_initializer='he_uniform'))\n",
    "model.add(Conv2D(128,(3,3),strides=1, padding='same',activation = 'relu',use_bias = True,kernel_initializer='he_uniform'))\n",
    "model.add(MaxPooling2D(pool_size=(2,2),padding='same'))\n",
    "model.add(Dropout(0.2))\n",
    "model.add(Flatten())\n",
    "model.add(Dense(128, activation='relu',use_bias=True,kernel_initializer='he_uniform'))\n",
    "model.add(Dropout(0.2))\n",
    "model.add(Dense(10,activation = 'softmax',use_bias=True))\n",
    "\n",
    "#compiling the model woth optimizer = adam and loss as categorical crossentropy\n",
    "model.compile(optimizer = 'adam', loss = 'categorical_crossentropy' , metrics = ['accuracy'])\n",
    "\n",
    "history =model.fit(x_train,y_train,epochs =25,batch_size = 500,validation_data=(x_test,y_test)) # use verbose=0 if you don.t want these progess bar to showup"
   ]
  },
  {
   "cell_type": "code",
   "execution_count": 10,
   "metadata": {},
   "outputs": [
    {
     "name": "stdout",
     "output_type": "stream",
     "text": [
      "313/313 [==============================] - 12s 39ms/step - loss: 0.5978 - accuracy: 0.8091\n",
      "0.8090999722480774\n"
     ]
    }
   ],
   "source": [
    "# getting the output score\n",
    "_,score = model.evaluate(x_test,y_test)\n",
    "print(score)"
   ]
  },
  {
   "cell_type": "code",
   "execution_count": 11,
   "metadata": {},
   "outputs": [
    {
     "name": "stdout",
     "output_type": "stream",
     "text": [
      "Model: \"sequential\"\n",
      "_________________________________________________________________\n",
      "Layer (type)                 Output Shape              Param #   \n",
      "=================================================================\n",
      "conv2d (Conv2D)              (None, 32, 32, 32)        896       \n",
      "_________________________________________________________________\n",
      "conv2d_1 (Conv2D)            (None, 32, 32, 32)        9248      \n",
      "_________________________________________________________________\n",
      "max_pooling2d (MaxPooling2D) (None, 16, 16, 32)        0         \n",
      "_________________________________________________________________\n",
      "dropout (Dropout)            (None, 16, 16, 32)        0         \n",
      "_________________________________________________________________\n",
      "conv2d_2 (Conv2D)            (None, 16, 16, 64)        18496     \n",
      "_________________________________________________________________\n",
      "conv2d_3 (Conv2D)            (None, 16, 16, 64)        36928     \n",
      "_________________________________________________________________\n",
      "max_pooling2d_1 (MaxPooling2 (None, 8, 8, 64)          0         \n",
      "_________________________________________________________________\n",
      "dropout_1 (Dropout)          (None, 8, 8, 64)          0         \n",
      "_________________________________________________________________\n",
      "conv2d_4 (Conv2D)            (None, 8, 8, 128)         73856     \n",
      "_________________________________________________________________\n",
      "conv2d_5 (Conv2D)            (None, 8, 8, 128)         147584    \n",
      "_________________________________________________________________\n",
      "max_pooling2d_2 (MaxPooling2 (None, 4, 4, 128)         0         \n",
      "_________________________________________________________________\n",
      "dropout_2 (Dropout)          (None, 4, 4, 128)         0         \n",
      "_________________________________________________________________\n",
      "flatten (Flatten)            (None, 2048)              0         \n",
      "_________________________________________________________________\n",
      "dense (Dense)                (None, 128)               262272    \n",
      "_________________________________________________________________\n",
      "dropout_3 (Dropout)          (None, 128)               0         \n",
      "_________________________________________________________________\n",
      "dense_1 (Dense)              (None, 10)                1290      \n",
      "=================================================================\n",
      "Total params: 550,570\n",
      "Trainable params: 550,570\n",
      "Non-trainable params: 0\n",
      "_________________________________________________________________\n"
     ]
    }
   ],
   "source": [
    "# getting the summary of our model\n",
    "model.summary()"
   ]
  }
 ],
 "metadata": {
  "kernelspec": {
   "display_name": "Python 3",
   "language": "python",
   "name": "python3"
  },
  "language_info": {
   "codemirror_mode": {
    "name": "ipython",
    "version": 3
   },
   "file_extension": ".py",
   "mimetype": "text/x-python",
   "name": "python",
   "nbconvert_exporter": "python",
   "pygments_lexer": "ipython3",
   "version": "3.8.3"
  }
 },
 "nbformat": 4,
 "nbformat_minor": 4
}
